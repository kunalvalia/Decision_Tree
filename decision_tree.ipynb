{
 "cells": [
  {
   "cell_type": "code",
   "execution_count": 1,
   "metadata": {},
   "outputs": [],
   "source": [
    "import time\n",
    "import pandas as pd\n",
    "import numpy as np\n",
    "import matplotlib.pyplot as plt\n",
    "\n",
    "\n",
    "\n",
    "# Read the data using pandas library\n",
    "# Using 90% of the data as training data and the remaining 10% as testing data\n",
    "data = pd.read_csv('heart.csv')\n",
    "msk = np.random.rand(len(data)) < 0.9 \n",
    "df = data[msk]\n",
    "tf = data[~msk]\n",
    "\n",
    "\n",
    "\n",
    "attributes = list(df.columns)"
   ]
  },
  {
   "cell_type": "code",
   "execution_count": 2,
   "metadata": {},
   "outputs": [],
   "source": [
    "# Take in the rows and a question and split the rows based on that question\n",
    "def partition(rows, question):\n",
    "    \"\"\"Partitions a dataset.\n",
    "    Locate the rows that are greater than the value in a certain column\n",
    "    \"\"\"\n",
    "    true_rows, false_rows = [], []\n",
    "    # Get question attributes\n",
    "    col,val = question[0],question[1]\n",
    "    # Locate the rows that meet quesiton criteria and those that don't\n",
    "    true_rows = rows.loc[rows[attributes[col]]>=val]\n",
    "    false_rows = rows.loc[rows[attributes[col]]<val]\n",
    "    # Return the sets of rows\n",
    "    return true_rows, false_rows"
   ]
  },
  {
   "cell_type": "code",
   "execution_count": 3,
   "metadata": {},
   "outputs": [],
   "source": [
    "# Calculate the gini impurity of the rows\n",
    "def gini(rows):\n",
    "    # Find how many have overall attribute \n",
    "    yes = rows.loc[rows[attributes[0]]==1].shape[0]\n",
    "    # Get total number of rows\n",
    "    total = rows.shape[0]\n",
    "    impurity = 1-(yes/total)**2-((total-yes)/total)**2\n",
    "    return impurity\n"
   ]
  },
  {
   "cell_type": "code",
   "execution_count": 4,
   "metadata": {},
   "outputs": [],
   "source": [
    "# Determine information gain given the left and right rows and the uncertainty of the current row\n",
    "def info_gain(left, right, current_uncertainty):\n",
    "    p = float(len(left)) / (len(left) + len(right))\n",
    "    return current_uncertainty - p * gini(left) - (1 - p) * gini(right)"
   ]
  },
  {
   "cell_type": "code",
   "execution_count": 5,
   "metadata": {},
   "outputs": [],
   "source": [
    "# Find the best place to split the rows\n",
    "def find_best_split(rows):\n",
    "    best_gain = 0  # keep track of the best information gain\n",
    "    best_question = None  # keep train of the feature / value that produced it\n",
    "    current_uncertainty = gini(rows)\n",
    "    num_attributes = len(attributes)-1 # get number of attributes\n",
    "    num_rows = rows.shape[0]\n",
    "\n",
    "    for col in range(num_attributes):  # for each feature\n",
    "        rows.sort_values(by=attributes[col+1],ascending = True)\n",
    "        for row in range(num_rows-2):  # for each row\n",
    "            lower = (df.iloc[row])[col+1]\n",
    "            upper = (df.iloc[row+1])[col+1]\n",
    "            avg = (lower+upper)/2\n",
    "            question = (col+1,avg) # Create a question using the average of consecutive rows\n",
    "\n",
    "            # try splitting the dataset\n",
    "            true_rows, false_rows = partition(rows, question)\n",
    "  \n",
    "            # Skip this split if it doesn't divide the\n",
    "            # dataset.\n",
    "            if len(true_rows) == 0 or len(false_rows) == 0:\n",
    "                continue\n",
    "            \n",
    "            # Calculate the information gain from this split\n",
    "            gain = info_gain(true_rows, false_rows, current_uncertainty)\n",
    "\n",
    "            if gain >= best_gain:\n",
    "                best_gain, best_question = gain, question\n",
    "\n",
    "    return best_gain, best_question"
   ]
  },
  {
   "cell_type": "code",
   "execution_count": 6,
   "metadata": {},
   "outputs": [],
   "source": [
    "# Leaf node that holds the dicionary of a class and the number of times it appears in \n",
    "# the rows from the training data reaching this leaf\n",
    "class Leaf:\n",
    "\n",
    "    def __init__(self, rows):\n",
    "        yes = rows.loc[rows[attributes[0]]==1].shape[0]\n",
    "        no = rows.loc[rows[attributes[0]]==0].shape[0]\n",
    "        self.predictions = (yes,no)"
   ]
  },
  {
   "cell_type": "code",
   "execution_count": 7,
   "metadata": {},
   "outputs": [],
   "source": [
    "# Asks a question and holds a reference to a question and two child nodes\n",
    "class Decision_Node:\n",
    "\n",
    "    def __init__(self,question,true_branch,false_branch):\n",
    "        self.question = question\n",
    "        self.true_branch = true_branch\n",
    "        self.false_branch = false_branch        \n",
    "        "
   ]
  },
  {
   "cell_type": "code",
   "execution_count": 8,
   "metadata": {},
   "outputs": [],
   "source": [
    "# Build the tree\n",
    "def build_tree(rows,depth,max_depth):\n",
    "\n",
    "    # Try partitioning the dataset on each of the unique attribute,\n",
    "    # calculate the information gain,\n",
    "    # and return the question that produces the highest gain.\n",
    "    gain, question = find_best_split(rows)\n",
    "\n",
    "    # Base case: no further info gain\n",
    "    # Since we can ask no further questions,\n",
    "    # we'll return a leaf.\n",
    "    if gain == 0 or depth>=max_depth:\n",
    "        return Leaf(rows)\n",
    "\n",
    "    # If we reach here, we have found a useful feature / value\n",
    "    # to partition on.\n",
    "    true_rows, false_rows = partition(rows, question)\n",
    "\n",
    "    # Recursively build the true branch.\n",
    "    true_branch = build_tree(true_rows,depth+1,max_depth)\n",
    "\n",
    "    # Recursively build the false branch.\n",
    "    false_branch = build_tree(false_rows,depth+1,max_depth)\n",
    "\n",
    "    # Return a Question node.\n",
    "    return Decision_Node(question, true_branch, false_branch)"
   ]
  },
  {
   "cell_type": "code",
   "execution_count": 9,
   "metadata": {},
   "outputs": [],
   "source": [
    "# Given a number of rows with yesses and nos determine what the prediction should be\n",
    "def predict(prediction):\n",
    "    if prediction[0]>=prediction[1]:\n",
    "        return 1\n",
    "    else:\n",
    "        return 0"
   ]
  },
  {
   "cell_type": "code",
   "execution_count": 10,
   "metadata": {},
   "outputs": [],
   "source": [
    "# Prints the tree (based off online availible code)\n",
    "def print_tree(node, spacing=\"\"):\n",
    "\n",
    "    # Base case: we've reached a leaf\n",
    "    if isinstance(node, Leaf):\n",
    "        pred = predict(node.predictions)\n",
    "        if pred == 1:\n",
    "            decision = \"TRUE\"\n",
    "        else:\n",
    "            decision = \"FALSE\"\n",
    "        print (spacing + \"Predict\", decision)\n",
    "        return\n",
    "\n",
    "    # Print the question at this node\n",
    "    print(spacing + attributes[node.question[0]]+' >= '+str(node.question[1]))\n",
    "\n",
    "    # Call this function recursively on the true branch\n",
    "    print (spacing + '--> True:')\n",
    "    print_tree(node.true_branch, spacing + \"  \")\n",
    "\n",
    "    # Call this function recursively on the false branch\n",
    "    print (spacing + '--> False:')\n",
    "    print_tree(node.false_branch, spacing + \"  \")"
   ]
  },
  {
   "cell_type": "code",
   "execution_count": 11,
   "metadata": {},
   "outputs": [],
   "source": [
    "# Find a predicted yesses and nos of certain leaf nodes\n",
    "def classify(row, node):\n",
    "\n",
    "    # Base case: we've reached a leaf\n",
    "    if isinstance(node, Leaf):\n",
    "        return node.predictions\n",
    "\n",
    "    # Decide whether to follow the true-branch or the false-branch.\n",
    "    # Compare the feature / value stored in the node,\n",
    "    # to the example we're considering.\n",
    "    col = node.question[0]\n",
    "    val = node.question[1]\n",
    "    if row[col]>=val:\n",
    "        return classify(row, node.true_branch)\n",
    "    else:\n",
    "        return classify(row, node.false_branch)"
   ]
  },
  {
   "cell_type": "code",
   "execution_count": 12,
   "metadata": {},
   "outputs": [],
   "source": [
    "# Loop through test data and match prediction to actual values\n",
    "def classify_test(tree,rows):\n",
    "    x = 0\n",
    "    for i in range(rows.shape[0]):\n",
    "        prediction = predict(classify(rows.iloc[i],tree))\n",
    "        if prediction == rows.iloc[i][0]:\n",
    "            x+=1\n",
    "    # Return the overall acuracy of the decision tree using the test data        \n",
    "    return (x/rows.shape[0])"
   ]
  },
  {
   "cell_type": "code",
   "execution_count": 13,
   "metadata": {},
   "outputs": [
    {
     "name": "stdout",
     "output_type": "stream",
     "text": [
      "Time: 116s\n",
      "cp >= 1.0\n",
      "--> True:\n",
      "  age >= 57.0\n",
      "  --> True:\n",
      "    Predict TRUE\n",
      "  --> False:\n",
      "    Predict TRUE\n",
      "--> False:\n",
      "  ca >= 1.0\n",
      "  --> True:\n",
      "    Predict FALSE\n",
      "  --> False:\n",
      "    Predict TRUE\n"
     ]
    }
   ],
   "source": [
    "# Create an array of trees with varying max depths\n",
    "tic = time.time()\n",
    "max_depths = 5\n",
    "trees = []\n",
    "for i in range(1,max_depths+1):\n",
    "    my_tree = build_tree(df,0,i)\n",
    "    trees.append(my_tree)\n",
    "toc = time.time()\n",
    "# Show the time\n",
    "print('Time: '+str(int(toc-tic))+'s')\n",
    "\n",
    "# Print the second tree in the array\n",
    "print_tree(trees[1])"
   ]
  },
  {
   "cell_type": "code",
   "execution_count": 14,
   "metadata": {},
   "outputs": [
    {
     "name": "stdout",
     "output_type": "stream",
     "text": [
      "   Max Depth  Accuracy\n",
      "1        1.0  0.750000\n",
      "2        2.0  0.704545\n",
      "3        3.0  0.840909\n",
      "4        4.0  0.795455\n",
      "5        5.0  0.863636\n"
     ]
    },
    {
     "data": {
      "image/png": "[encoded data removed]",
      "text/plain": [
       "<Figure size 432x288 with 1 Axes>"
      ]
     },
     "metadata": {
      "needs_background": "light"
     },
     "output_type": "display_data"
    }
   ],
   "source": [
    "# Create chart to check how max depth affects accuracy of the decision tree\n",
    "# using the remaing rows as testing data\n",
    "d = {'Max Depth':[],'Accuracy': []}\n",
    "pf = pd.DataFrame(data=d)\n",
    "i = 1\n",
    "accuracies = []\n",
    "for tree in trees:\n",
    "    accuracy = classify_test(tree,tf)\n",
    "    accuracies.append(accuracy)\n",
    "    pf.loc[i] = int(i),accuracy\n",
    "    i+=1\n",
    "\n",
    "ax = plt.gca()\n",
    "plt.title('Accuracy vs Max Depth Decision Tree')\n",
    "pf.plot(kind='line',x='Max Depth',y='Accuracy',ax=ax)\n",
    "\n",
    "print(pf)"
   ]
  },
  {
   "cell_type": "code",
   "execution_count": null,
   "metadata": {},
   "outputs": [],
   "source": []
  },
  {
   "cell_type": "code",
   "execution_count": null,
   "metadata": {},
   "outputs": [],
   "source": []
  },
  {
   "cell_type": "code",
   "execution_count": null,
   "metadata": {},
   "outputs": [],
   "source": []
  },
  {
   "cell_type": "code",
   "execution_count": null,
   "metadata": {},
   "outputs": [],
   "source": []
  },
  {
   "cell_type": "code",
   "execution_count": null,
   "metadata": {},
   "outputs": [],
   "source": []
  }
 ],
 "metadata": {
  "kernelspec": {
   "display_name": "Python 3",
   "language": "python",
   "name": "python3"
  },
  "language_info": {
   "codemirror_mode": {
    "name": "ipython",
    "version": 3
   },
   "file_extension": ".py",
   "mimetype": "text/x-python",
   "name": "python",
   "nbconvert_exporter": "python",
   "pygments_lexer": "ipython3",
   "version": "3.7.6"
  }
 },
 "nbformat": 4,
 "nbformat_minor": 4
}
